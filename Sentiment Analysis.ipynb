{
 "cells": [
  {
   "cell_type": "code",
   "execution_count": null,
   "id": "49fd2bcc",
   "metadata": {
    "_cell_guid": "b1076dfc-b9ad-4769-8c92-a6c4dae69d19",
    "_uuid": "8f2839f25d086af736a60e9eeb907d3b93b6e0e5",
    "execution": {
     "iopub.execute_input": "2021-10-03T15:40:09.452756Z",
     "iopub.status.busy": "2021-10-03T15:40:09.452121Z",
     "iopub.status.idle": "2021-10-03T15:40:13.957101Z",
     "shell.execute_reply": "2021-10-03T15:40:13.956133Z",
     "shell.execute_reply.started": "2021-10-03T14:56:29.599097Z"
    },
    "papermill": {
     "duration": 4.541328,
     "end_time": "2021-10-03T15:40:13.957258",
     "exception": false,
     "start_time": "2021-10-03T15:40:09.415930",
     "status": "completed"
    },
    "tags": []
   },
   "outputs": [],
   "source": [
    "import pandas as pd\n",
    "import numpy as np\n",
    "import sys\n",
    "import re\n",
    "import os\n",
    "import ssl\n",
    "import matplotlib.pyplot as plt\n",
    "import nltk\n",
    "import pickle\n",
    "\n",
    "try:\n",
    "    _create_unverified_https_context = ssl._create_unverified_context\n",
    "except AttributeError:\n",
    "    pass\n",
    "else:\n",
    "    ssl._create_default_https_context = _create_unverified_https_context\n",
    "\n",
    "nltk.download('stopwords')\n",
    "from nltk.corpus import stopwords\n",
    "# !pip install contractions\n",
    "import contractions\n",
    "\n",
    "import tensorflow as tf\n",
    "from tensorflow.keras.preprocessing.text import Tokenizer\n",
    "from tensorflow.keras.preprocessing.sequence import pad_sequences\n",
    "from tensorflow.keras.models import Sequential\n",
    "from tensorflow.keras.layers import LSTM,Dense, Dropout, SpatialDropout1D\n",
    "from tensorflow.keras.layers import Embedding\n",
    "from tensorflow.keras.callbacks import EarlyStopping, ModelCheckpoint"
   ]
  },
  {
   "cell_type": "code",
   "execution_count": null,
   "id": "cf476b8c",
   "metadata": {
    "execution": {
     "iopub.execute_input": "2021-10-03T15:40:14.066737Z",
     "iopub.status.busy": "2021-10-03T15:40:14.066040Z",
     "iopub.status.idle": "2021-10-03T15:40:14.302470Z",
     "shell.execute_reply": "2021-10-03T15:40:14.301981Z",
     "shell.execute_reply.started": "2021-10-03T14:56:34.07089Z"
    },
    "papermill": {
     "duration": 0.2664,
     "end_time": "2021-10-03T15:40:14.302603",
     "exception": false,
     "start_time": "2021-10-03T15:40:14.036203",
     "status": "completed"
    },
    "tags": []
   },
   "outputs": [],
   "source": [
    "path = \"../data\"\n",
    "train_data = pd.read_csv(os.path.join(path, 'train.csv'), names = ['Rating','Title','Review'],nrows=50000)\n",
    "test_data = pd.read_csv(os.path.join(path, 'test.csv'), names = ['Rating','Title','Review'], nrows = 5000)\n",
    "\n",
    "data = pd.concat([train_data, test_data])\n",
    "data = data.reset_index(drop=True)"
   ]
  },
  {
   "cell_type": "code",
   "execution_count": null,
   "id": "76ff655b",
   "metadata": {
    "execution": {
     "iopub.execute_input": "2021-10-03T15:40:14.673759Z",
     "iopub.status.busy": "2021-10-03T15:40:14.672995Z",
     "iopub.status.idle": "2021-10-03T15:40:14.675628Z",
     "shell.execute_reply": "2021-10-03T15:40:14.675118Z",
     "shell.execute_reply.started": "2021-10-03T14:56:34.375166Z"
    },
    "papermill": {
     "duration": 0.033393,
     "end_time": "2021-10-03T15:40:14.675731",
     "exception": false,
     "start_time": "2021-10-03T15:40:14.642338",
     "status": "completed"
    },
    "tags": []
   },
   "outputs": [],
   "source": [
    "data=data.drop(columns=['Title'])"
   ]
  },
  {
   "cell_type": "code",
   "execution_count": null,
   "id": "e5ca0930",
   "metadata": {
    "execution": {
     "iopub.execute_input": "2021-10-03T15:40:14.854382Z",
     "iopub.status.busy": "2021-10-03T15:40:14.853529Z",
     "iopub.status.idle": "2021-10-03T15:40:14.857801Z",
     "shell.execute_reply": "2021-10-03T15:40:14.857406Z",
     "shell.execute_reply.started": "2021-10-03T14:56:34.402993Z"
    },
    "papermill": {
     "duration": 0.035849,
     "end_time": "2021-10-03T15:40:14.857917",
     "exception": false,
     "start_time": "2021-10-03T15:40:14.822068",
     "status": "completed"
    },
    "tags": []
   },
   "outputs": [],
   "source": [
    "data.Rating = data.Rating.replace([1,2,3],0)\n",
    "data.Rating = data.Rating.replace([4,5],1)"
   ]
  },
  {
   "cell_type": "code",
   "execution_count": null,
   "id": "18703dc0",
   "metadata": {
    "execution": {
     "iopub.execute_input": "2021-10-03T15:40:15.500932Z",
     "iopub.status.busy": "2021-10-03T15:40:15.500256Z",
     "iopub.status.idle": "2021-10-03T15:40:15.503080Z",
     "shell.execute_reply": "2021-10-03T15:40:15.502644Z",
     "shell.execute_reply.started": "2021-10-03T14:56:34.631216Z"
    },
    "papermill": {
     "duration": 0.034749,
     "end_time": "2021-10-03T15:40:15.503191",
     "exception": false,
     "start_time": "2021-10-03T15:40:15.468442",
     "status": "completed"
    },
    "tags": []
   },
   "outputs": [],
   "source": [
    "my_data=data[:]"
   ]
  },
  {
   "cell_type": "code",
   "execution_count": null,
   "id": "e297b0e3",
   "metadata": {
    "execution": {
     "iopub.execute_input": "2021-10-03T15:40:15.758284Z",
     "iopub.status.busy": "2021-10-03T15:40:15.757572Z",
     "iopub.status.idle": "2021-10-03T15:40:15.760922Z",
     "shell.execute_reply": "2021-10-03T15:40:15.760495Z",
     "shell.execute_reply.started": "2021-10-03T14:56:34.663481Z"
    },
    "papermill": {
     "duration": 0.037461,
     "end_time": "2021-10-03T15:40:15.761020",
     "exception": false,
     "start_time": "2021-10-03T15:40:15.723559",
     "status": "completed"
    },
    "tags": []
   },
   "outputs": [],
   "source": [
    "sentiment_label = my_data.Rating.factorize()\n",
    "sentiment_label"
   ]
  },
  {
   "cell_type": "code",
   "execution_count": null,
   "id": "8021bdb4",
   "metadata": {
    "execution": {
     "iopub.execute_input": "2021-10-03T15:40:16.040400Z",
     "iopub.status.busy": "2021-10-03T15:40:16.030150Z",
     "iopub.status.idle": "2021-10-03T15:40:17.283893Z",
     "shell.execute_reply": "2021-10-03T15:40:17.283359Z",
     "shell.execute_reply.started": "2021-10-03T14:56:34.674485Z"
    },
    "papermill": {
     "duration": 1.316405,
     "end_time": "2021-10-03T15:40:17.284017",
     "exception": false,
     "start_time": "2021-10-03T15:40:15.967612",
     "status": "completed"
    },
    "tags": []
   },
   "outputs": [],
   "source": [
    "stops = stopwords.words('english')\n",
    "def clean_matter(matter, remove_stopwords = True, stops = stops):\n",
    "    # Convert words to lower case\n",
    "    matter = str(matter)\n",
    "    matter = matter.lower()\n",
    "    \n",
    "    # Replace contractions with their longer forms \n",
    "    matter = ' '.join([contractions.fix(word) for word in matter.split(\" \")])    \n",
    "    \n",
    "    # Format words and remove unwanted characters\n",
    "    matter = re.sub(r'https?:\\/\\/.*[\\r\\n]*', '', matter, flags=re.MULTILINE)\n",
    "    matter = re.sub(r'\\<a href', ' ', matter)\n",
    "    matter = re.sub(r'&amp;', '', matter) \n",
    "    matter = re.sub(r'[_\"\\-;%()|+&=*%.,!?:#$@\\[\\]/]', ' ', matter)\n",
    "    matter = re.sub(r'<br />', ' ', matter)\n",
    "    matter = re.sub(r'\\'', ' ', matter)\n",
    "    \n",
    "    # Optionally, remove stop words\n",
    "    if remove_stopwords:\n",
    "        matter = matter.split()\n",
    "        matter = [w for w in matter if not w in stops]\n",
    "        matter = \" \".join(matter)\n",
    "\n",
    "    return matter\n",
    "\n",
    "\n",
    "\n",
    "review_texts = my_data.Review.apply(clean_matter)\n",
    "tokenizer = Tokenizer(num_words=10000)\n",
    "tokenizer.fit_on_texts(review_texts)\n",
    "vocab_size = len(tokenizer.word_index) + 1\n",
    "encoded_docs = tokenizer.texts_to_sequences(review_texts)\n",
    "padded_sequence = pad_sequences(encoded_docs, maxlen=200)"
   ]
  },
  {
   "cell_type": "code",
   "execution_count": null,
   "id": "0c362407",
   "metadata": {},
   "outputs": [],
   "source": [
    "# import pickle\n",
    "glove_size = 300\n",
    "# with open('../data/glove.840B.300d.pkl', 'rb') as fp:\n",
    "#     glove = pickle.load(fp)\n",
    "\n",
    "f = open(os.path.join(path, 'glove.840B.300d.txt'), encoding='utf-8')\n",
    "glove = dict()\n",
    "i = 1\n",
    "for line in f:\n",
    "    values = line.split(\" \")\n",
    "    if i < 5:\n",
    "        print(values)\n",
    "        i = i + 1\n",
    "    glove[values[0]] = np.asarray(values[1:], dtype='float32')\n",
    "f.close()"
   ]
  },
  {
   "cell_type": "code",
   "execution_count": null,
   "id": "61e11280",
   "metadata": {},
   "outputs": [],
   "source": [
    "print(f'LOADED {len(glove)} WORD VECTORS.')\n",
    "\n",
    "embedding_matrix = np.zeros((vocab_size, glove_size))\n",
    "for word, i in tokenizer.word_index.items():\n",
    "    embedding_vector = glove.get(word)\n",
    "    if embedding_vector is not None:\n",
    "        embedding_matrix[i] = embedding_vector"
   ]
  },
  {
   "cell_type": "markdown",
   "id": "e0ebcb7f",
   "metadata": {
    "papermill": {
     "duration": 0.029355,
     "end_time": "2021-10-03T15:40:17.522101",
     "exception": false,
     "start_time": "2021-10-03T15:40:17.492746",
     "status": "completed"
    },
    "tags": []
   },
   "source": [
    "# Building Model"
   ]
  },
  {
   "cell_type": "code",
   "execution_count": null,
   "id": "69c47ab6",
   "metadata": {
    "execution": {
     "iopub.execute_input": "2021-10-03T15:40:17.586916Z",
     "iopub.status.busy": "2021-10-03T15:40:17.586262Z",
     "iopub.status.idle": "2021-10-03T15:40:19.654360Z",
     "shell.execute_reply": "2021-10-03T15:40:19.655148Z",
     "shell.execute_reply.started": "2021-10-03T14:56:35.94493Z"
    },
    "papermill": {
     "duration": 2.103947,
     "end_time": "2021-10-03T15:40:19.655342",
     "exception": false,
     "start_time": "2021-10-03T15:40:17.551395",
     "status": "completed"
    },
    "tags": []
   },
   "outputs": [],
   "source": [
    "# embedding_vector_length = 64\n",
    "model = Sequential() \n",
    "model.add(Embedding(vocab_size, glove_size, input_length=200, weights=[embedding_matrix], trainable=False) )\n",
    "model.add(SpatialDropout1D(0.4))\n",
    "model.add(LSTM(128, dropout=0.3, recurrent_dropout=0.4))\n",
    "model.add(Dropout(0.2))\n",
    "model.add(Dense(16, activation='relu')) \n",
    "model.add(Dense(1, activation='sigmoid')) \n",
    "model.compile(loss='binary_crossentropy',optimizer='adam', metrics=['accuracy'])  \n",
    "print(model.summary())"
   ]
  },
  {
   "cell_type": "code",
   "execution_count": null,
   "id": "19f0fc90",
   "metadata": {
    "execution": {
     "iopub.execute_input": "2021-10-03T15:40:19.778682Z",
     "iopub.status.busy": "2021-10-03T15:40:19.778146Z",
     "iopub.status.idle": "2021-10-03T15:52:22.840007Z",
     "shell.execute_reply": "2021-10-03T15:52:22.839528Z",
     "shell.execute_reply.started": "2021-10-03T14:56:37.959041Z"
    },
    "papermill": {
     "duration": 723.095279,
     "end_time": "2021-10-03T15:52:22.840151",
     "exception": false,
     "start_time": "2021-10-03T15:40:19.744872",
     "status": "completed"
    },
    "tags": []
   },
   "outputs": [],
   "source": [
    "checkpoint_filepath = '../model/senti_model.{epoch:02d}-{val_loss:.2f}.h5'\n",
    "\n",
    "model_checkpoint_callback = tf.keras.callbacks.ModelCheckpoint(\n",
    "                                filepath = checkpoint_filepath,\n",
    "                                save_weights_only = True,\n",
    "                                monitor = 'val_loss', \n",
    "                                mode = 'min',\n",
    "                                save_best_only = True, \n",
    "                                save_freq = \"epoch\")\n",
    "\n",
    "es = EarlyStopping( monitor = 'val_loss', \n",
    "                    mode = 'min', \n",
    "                    verbose = 1, \n",
    "                    patience = 1)\n",
    "history = model.fit( padded_sequence, sentiment_label[0],\n",
    "                    validation_split = 0.25,\n",
    "                    epochs = 15,\n",
    "                    batch_size=32,\n",
    "                    callbacks = [es, model_checkpoint_callback])"
   ]
  },
  {
   "cell_type": "code",
   "execution_count": null,
   "id": "7ec4c247",
   "metadata": {},
   "outputs": [],
   "source": [
    "l = [vocab_size, glove_size, embedding_matrix, tokenizer, sentiment_label ]\n",
    "with open('../data/senti_vars.pkl', 'wb') as f:\n",
    "    pickle.dump(l, f)"
   ]
  },
  {
   "cell_type": "markdown",
   "id": "524bf285",
   "metadata": {
    "papermill": {
     "duration": 0.278187,
     "end_time": "2021-10-03T15:52:25.405207",
     "exception": false,
     "start_time": "2021-10-03T15:52:25.127020",
     "status": "completed"
    },
    "tags": []
   },
   "source": [
    "# Prediction"
   ]
  },
  {
   "cell_type": "code",
   "execution_count": null,
   "id": "c6d2321c",
   "metadata": {
    "execution": {
     "iopub.execute_input": "2021-10-03T15:52:25.966309Z",
     "iopub.status.busy": "2021-10-03T15:52:25.965456Z",
     "iopub.status.idle": "2021-10-03T15:52:26.256072Z",
     "shell.execute_reply": "2021-10-03T15:52:26.255445Z",
     "shell.execute_reply.started": "2021-10-03T15:12:22.138367Z"
    },
    "papermill": {
     "duration": 0.573332,
     "end_time": "2021-10-03T15:52:26.256243",
     "exception": false,
     "start_time": "2021-10-03T15:52:25.682911",
     "status": "completed"
    },
    "tags": []
   },
   "outputs": [],
   "source": [
    "def predict_sentiment(text):\n",
    "    tw = tokenizer.texts_to_sequences([text])\n",
    "    tw = pad_sequences(tw,maxlen=200)\n",
    "    prediction = int(model.predict(tw).round().item())\n",
    "    print(\"Predicted label: \", sentiment_label[1][prediction])\n",
    "    \n",
    "\n",
    "test_sentence1 = \"I like this book.\"\n",
    "predict_sentiment(test_sentence1)"
   ]
  }
 ],
 "metadata": {
  "kernelspec": {
   "display_name": "Python 3",
   "language": "python",
   "name": "python3"
  },
  "language_info": {
   "codemirror_mode": {
    "name": "ipython",
    "version": 3
   },
   "file_extension": ".py",
   "mimetype": "text/x-python",
   "name": "python",
   "nbconvert_exporter": "python",
   "pygments_lexer": "ipython3",
   "version": "3.9.6"
  },
  "papermill": {
   "default_parameters": {},
   "duration": 745.910304,
   "end_time": "2021-10-03T15:52:28.189193",
   "environment_variables": {},
   "exception": null,
   "input_path": "__notebook__.ipynb",
   "output_path": "__notebook__.ipynb",
   "parameters": {},
   "start_time": "2021-10-03T15:40:02.278889",
   "version": "2.3.3"
  }
 },
 "nbformat": 4,
 "nbformat_minor": 5
}
